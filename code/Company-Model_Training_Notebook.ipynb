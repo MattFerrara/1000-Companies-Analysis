{
 "cells": [
  {
   "cell_type": "code",
   "execution_count": 7,
   "metadata": {},
   "outputs": [
    {
     "name": "stdout",
     "output_type": "stream",
     "text": [
      "   R&D Spend  Administration  Marketing Spend       State\n",
      "0  165349.20       136897.80        471784.10    New York\n",
      "1  162597.70       151377.59        443898.53  California\n",
      "2  153441.51       101145.55        407934.54     Florida\n",
      "3  144372.41       118671.85        383199.62    New York\n",
      "4  142107.34        91391.77        366168.42     Florida\n",
      "0    192261.83\n",
      "1    191792.06\n",
      "2    191050.39\n",
      "3    182901.99\n",
      "4    166187.94\n",
      "Name: Profit, dtype: float64\n"
     ]
    }
   ],
   "source": [
    "# Importing the libraries\n",
    "import numpy as np\n",
    "import matplotlib.pyplot as plt\n",
    "import pandas as pd\n",
    "import seaborn as sns\n",
    "\n",
    "df = pd.read_csv('1000_Companies.csv')\n",
    "X = df.iloc[:, :-1] #grabs all rows,except last column\n",
    "y = df.iloc[:, 4] #grabs last col as label or what we're testing \n",
    "print(X.head())\n",
    "print(y.head())"
   ]
  },
  {
   "cell_type": "code",
   "execution_count": 58,
   "metadata": {},
   "outputs": [
    {
     "data": {
      "text/html": [
       "<div>\n",
       "<style scoped>\n",
       "    .dataframe tbody tr th:only-of-type {\n",
       "        vertical-align: middle;\n",
       "    }\n",
       "\n",
       "    .dataframe tbody tr th {\n",
       "        vertical-align: top;\n",
       "    }\n",
       "\n",
       "    .dataframe thead th {\n",
       "        text-align: right;\n",
       "    }\n",
       "</style>\n",
       "<table border=\"1\" class=\"dataframe\">\n",
       "  <thead>\n",
       "    <tr style=\"text-align: right;\">\n",
       "      <th></th>\n",
       "      <th>R&amp;D Spend</th>\n",
       "      <th>Administration</th>\n",
       "      <th>Marketing Spend</th>\n",
       "      <th>Profit</th>\n",
       "    </tr>\n",
       "  </thead>\n",
       "  <tbody>\n",
       "    <tr>\n",
       "      <th>count</th>\n",
       "      <td>1000.000000</td>\n",
       "      <td>1000.000000</td>\n",
       "      <td>1000.000000</td>\n",
       "      <td>1000.000000</td>\n",
       "    </tr>\n",
       "    <tr>\n",
       "      <th>mean</th>\n",
       "      <td>81668.927200</td>\n",
       "      <td>122963.897612</td>\n",
       "      <td>226205.058419</td>\n",
       "      <td>119546.164656</td>\n",
       "    </tr>\n",
       "    <tr>\n",
       "      <th>std</th>\n",
       "      <td>46537.567891</td>\n",
       "      <td>12613.927535</td>\n",
       "      <td>91578.393542</td>\n",
       "      <td>42888.633848</td>\n",
       "    </tr>\n",
       "    <tr>\n",
       "      <th>min</th>\n",
       "      <td>0.000000</td>\n",
       "      <td>51283.140000</td>\n",
       "      <td>0.000000</td>\n",
       "      <td>14681.400000</td>\n",
       "    </tr>\n",
       "    <tr>\n",
       "      <th>25%</th>\n",
       "      <td>43084.500000</td>\n",
       "      <td>116640.684850</td>\n",
       "      <td>150969.584600</td>\n",
       "      <td>85943.198543</td>\n",
       "    </tr>\n",
       "    <tr>\n",
       "      <th>50%</th>\n",
       "      <td>79936.000000</td>\n",
       "      <td>122421.612150</td>\n",
       "      <td>224517.887350</td>\n",
       "      <td>117641.466300</td>\n",
       "    </tr>\n",
       "    <tr>\n",
       "      <th>75%</th>\n",
       "      <td>124565.500000</td>\n",
       "      <td>129139.118000</td>\n",
       "      <td>308189.808525</td>\n",
       "      <td>155577.107425</td>\n",
       "    </tr>\n",
       "    <tr>\n",
       "      <th>max</th>\n",
       "      <td>165349.200000</td>\n",
       "      <td>321652.140000</td>\n",
       "      <td>471784.100000</td>\n",
       "      <td>476485.430000</td>\n",
       "    </tr>\n",
       "  </tbody>\n",
       "</table>\n",
       "</div>"
      ],
      "text/plain": [
       "           R&D Spend  Administration  Marketing Spend         Profit\n",
       "count    1000.000000     1000.000000      1000.000000    1000.000000\n",
       "mean    81668.927200   122963.897612    226205.058419  119546.164656\n",
       "std     46537.567891    12613.927535     91578.393542   42888.633848\n",
       "min         0.000000    51283.140000         0.000000   14681.400000\n",
       "25%     43084.500000   116640.684850    150969.584600   85943.198543\n",
       "50%     79936.000000   122421.612150    224517.887350  117641.466300\n",
       "75%    124565.500000   129139.118000    308189.808525  155577.107425\n",
       "max    165349.200000   321652.140000    471784.100000  476485.430000"
      ]
     },
     "execution_count": 58,
     "metadata": {},
     "output_type": "execute_result"
    }
   ],
   "source": [
    "df.describe()"
   ]
  },
  {
   "cell_type": "markdown",
   "metadata": {},
   "source": [
    "## Experiment 1"
   ]
  },
  {
   "cell_type": "code",
   "execution_count": 41,
   "metadata": {},
   "outputs": [
    {
     "name": "stdout",
     "output_type": "stream",
     "text": [
      "     R&D Spend  Administration  Marketing Spend       State\n",
      "0    165349.20     136897.8000     471784.10000    New York\n",
      "1    162597.70     151377.5900     443898.53000  California\n",
      "2    153441.51     101145.5500     407934.54000     Florida\n",
      "3    144372.41     118671.8500     383199.62000    New York\n",
      "4    142107.34      91391.7700     366168.42000     Florida\n",
      "5    131876.90      99814.7100     362861.36000    New York\n",
      "6    134615.46     147198.8700     127716.82000  California\n",
      "7    130298.13     145530.0600     323876.68000     Florida\n",
      "8    120542.52     148718.9500     311613.29000    New York\n",
      "9    123334.88     108679.1700     304981.62000  California\n",
      "10   101913.08     110594.1100     229160.95000     Florida\n",
      "11   100671.96      91790.6100     249744.55000  California\n",
      "12    93863.75     127320.3800     249839.44000     Florida\n",
      "13    91992.39     135495.0700     252664.93000  California\n",
      "14   119943.24     156547.4200     256512.92000     Florida\n",
      "15   114523.61     122616.8400     261776.23000    New York\n",
      "16    78013.11     121597.5500     264346.06000  California\n",
      "17    94657.16     145077.5800     282574.31000    New York\n",
      "18    91749.16     114175.7900     294919.57000     Florida\n",
      "19    86419.70     153514.1100          0.00000    New York\n",
      "20    76253.86     113867.3000     298664.47000  California\n",
      "21    78389.47     153773.4300     299737.29000    New York\n",
      "22    73994.56     122782.7500     303319.26000     Florida\n",
      "23    67532.53     105751.0300     304768.73000     Florida\n",
      "24    77044.01      99281.3400     140574.81000    New York\n",
      "25    64664.71     139553.1600     137962.62000  California\n",
      "26    75328.87     144135.9800     134050.07000     Florida\n",
      "27    72107.60     127864.5500     353183.81000    New York\n",
      "28    66051.52     182645.5600     118148.20000     Florida\n",
      "29    65605.48     153032.0600     107138.38000    New York\n",
      "..         ...             ...              ...         ...\n",
      "970   13856.00     112503.4128      95514.22902     Florida\n",
      "971   71829.00     121065.1295     207373.29080    New York\n",
      "972  131154.00     129826.5157     321841.04030     Florida\n",
      "973   68679.00     120599.9232     201295.35720    New York\n",
      "974  108056.00     126415.2979     277273.38630  California\n",
      "975  140149.00     131154.9383     339196.91740     Florida\n",
      "976   56850.00     118852.9626     178471.26940  California\n",
      "977   47438.00     117462.9555     160310.78970    New York\n",
      "978   58867.00     119150.8423     182363.07640     Florida\n",
      "979   12914.00     112364.2939      93696.63744  California\n",
      "980   62574.00     119698.3089     189515.74310    New York\n",
      "981   53106.00     118300.0316     171247.21120  California\n",
      "982  123537.00     128701.6025     307144.01800  California\n",
      "983   48901.00     117679.0180     163133.65220     Florida\n",
      "984  105143.00     125985.0928     271652.74480  California\n",
      "985   63615.00     119852.0486     191524.35540    New York\n",
      "986  100405.00     125285.3634     262510.76090  California\n",
      "987   41289.00     116554.8432     148446.27740    New York\n",
      "988   39970.00     116360.0473     145901.26330     Florida\n",
      "989   43532.00     116886.0996     152774.15210     Florida\n",
      "990  136133.00     130561.8371     331448.03440  California\n",
      "991  131106.00     129819.4269     321748.42420    New York\n",
      "992  105127.00     125982.7298     271621.87280     Florida\n",
      "993   46798.00     117368.4374     159075.90800  California\n",
      "994   97209.00     124813.3635     256344.07010    New York\n",
      "995   54135.00     118451.9990     173232.66950  California\n",
      "996  134970.00     130390.0800     329204.02280  California\n",
      "997  100275.47     241926.3100     227142.82000  California\n",
      "998  128456.23     321652.1400     281692.32000  California\n",
      "999  161181.72     270939.8600     295442.17000    New York\n",
      "\n",
      "[1000 rows x 4 columns]\n",
      "(1000, 4)\n",
      "(1000, 6)\n"
     ]
    }
   ],
   "source": [
    "from sklearn.compose import ColumnTransformer\n",
    "from sklearn.preprocessing import OneHotEncoder\n",
    "cols2trans = [3]\n",
    "columnTransformer = ColumnTransformer([('encoder', OneHotEncoder(), cols2trans)], remainder='passthrough')\n",
    "X_counts = columnTransformer.fit_transform(X)\n",
    "print(X)\n",
    "print(X.shape)\n",
    "print(X_counts.shape) #notice extra cols"
   ]
  },
  {
   "cell_type": "code",
   "execution_count": 42,
   "metadata": {},
   "outputs": [
    {
     "name": "stdout",
     "output_type": "stream",
     "text": [
      "[[0.0000000e+00 0.0000000e+00 1.0000000e+00 1.6534920e+05 1.3689780e+05\n",
      "  4.7178410e+05]\n",
      " [1.0000000e+00 0.0000000e+00 0.0000000e+00 1.6259770e+05 1.5137759e+05\n",
      "  4.4389853e+05]]\n"
     ]
    }
   ],
   "source": [
    "print(X_counts[:2,:])"
   ]
  },
  {
   "cell_type": "code",
   "execution_count": 43,
   "metadata": {},
   "outputs": [
    {
     "name": "stdout",
     "output_type": "stream",
     "text": [
      "0.9498636456185335\n",
      "[0.55393228 1.02663516 0.08057015]\n",
      "-70157.32512037757\n"
     ]
    }
   ],
   "source": [
    "#Score is good\n",
    "from sklearn.linear_model import LinearRegression\n",
    "Xn = X.iloc[:,[0,1,2]] \n",
    "reg = LinearRegression().fit(Xn, y)\n",
    "print(reg.score(Xn, y))\n",
    "print(reg.coef_)\n",
    "print(reg.intercept_)"
   ]
  },
  {
   "cell_type": "markdown",
   "metadata": {},
   "source": [
    "## Experiment 2"
   ]
  },
  {
   "cell_type": "code",
   "execution_count": 48,
   "metadata": {},
   "outputs": [
    {
     "name": "stdout",
     "output_type": "stream",
     "text": [
      "model TRAIN score: 0.969\n",
      "model TEST score: 0.985\n"
     ]
    }
   ],
   "source": [
    "from sklearn.compose import ColumnTransformer\n",
    "from sklearn.datasets import fetch_openml\n",
    "from sklearn.pipeline import Pipeline\n",
    "from sklearn.impute import SimpleImputer\n",
    "from sklearn.preprocessing import StandardScaler, OneHotEncoder\n",
    "from sklearn.linear_model import LinearRegression\n",
    "from sklearn import svm\n",
    "from sklearn.model_selection import train_test_split, GridSearchCV\n",
    "from sklearn.preprocessing import PolynomialFeatures\n",
    "\n",
    "numeric_features = ['R&D Spend', 'Administration','Marketing Spend']\n",
    "numeric_transformer = Pipeline(steps=[\n",
    "    ('imputer', SimpleImputer(strategy='median')),\n",
    "    ('scaler', StandardScaler()),\n",
    "    ('poly', PolynomialFeatures(2))])\n",
    "\n",
    "categorical_features = ['State']\n",
    "categorical_transformer = Pipeline(steps=[\n",
    "    ('imputer', SimpleImputer(strategy='constant', fill_value='missing')),\n",
    "    ('onehot', OneHotEncoder(handle_unknown='ignore')),\n",
    "    ('poly', PolynomialFeatures(2))])\n",
    "\n",
    "preprocessor = ColumnTransformer(\n",
    "    transformers=[\n",
    "        ('num', numeric_transformer, numeric_features),\n",
    "        ('cat', categorical_transformer, categorical_features)])\n",
    "\n",
    "clf = Pipeline(steps=[('preprocessor', preprocessor),\n",
    "                        ('classifier', LinearRegression(fit_intercept=True))])\n",
    "\n",
    "X_train, X_test, y_train, y_test = train_test_split(X, y, test_size=0.2)\n",
    "\n",
    "clf.fit(X_train, y_train)\n",
    "print(\"model TRAIN score: %.3f\" % clf.score(X_train, y_train))\n",
    "print(\"model TEST score: %.3f\" % clf.score(X_test, y_test))"
   ]
  },
  {
   "cell_type": "code",
   "execution_count": 50,
   "metadata": {},
   "outputs": [
    {
     "data": {
      "text/html": [
       "<style>#sk-35f0b76a-09dc-41be-8f18-6ccd0b509c67 {color: black;background-color: white;}#sk-35f0b76a-09dc-41be-8f18-6ccd0b509c67 pre{padding: 0;}#sk-35f0b76a-09dc-41be-8f18-6ccd0b509c67 div.sk-toggleable {background-color: white;}#sk-35f0b76a-09dc-41be-8f18-6ccd0b509c67 label.sk-toggleable__label {cursor: pointer;display: block;width: 100%;margin-bottom: 0;padding: 0.2em 0.3em;box-sizing: border-box;text-align: center;}#sk-35f0b76a-09dc-41be-8f18-6ccd0b509c67 div.sk-toggleable__content {max-height: 0;max-width: 0;overflow: hidden;text-align: left;background-color: #f0f8ff;}#sk-35f0b76a-09dc-41be-8f18-6ccd0b509c67 div.sk-toggleable__content pre {margin: 0.2em;color: black;border-radius: 0.25em;background-color: #f0f8ff;}#sk-35f0b76a-09dc-41be-8f18-6ccd0b509c67 input.sk-toggleable__control:checked~div.sk-toggleable__content {max-height: 200px;max-width: 100%;overflow: auto;}#sk-35f0b76a-09dc-41be-8f18-6ccd0b509c67 div.sk-estimator input.sk-toggleable__control:checked~label.sk-toggleable__label {background-color: #d4ebff;}#sk-35f0b76a-09dc-41be-8f18-6ccd0b509c67 div.sk-label input.sk-toggleable__control:checked~label.sk-toggleable__label {background-color: #d4ebff;}#sk-35f0b76a-09dc-41be-8f18-6ccd0b509c67 input.sk-hidden--visually {border: 0;clip: rect(1px 1px 1px 1px);clip: rect(1px, 1px, 1px, 1px);height: 1px;margin: -1px;overflow: hidden;padding: 0;position: absolute;width: 1px;}#sk-35f0b76a-09dc-41be-8f18-6ccd0b509c67 div.sk-estimator {font-family: monospace;background-color: #f0f8ff;margin: 0.25em 0.25em;border: 1px dotted black;border-radius: 0.25em;box-sizing: border-box;}#sk-35f0b76a-09dc-41be-8f18-6ccd0b509c67 div.sk-estimator:hover {background-color: #d4ebff;}#sk-35f0b76a-09dc-41be-8f18-6ccd0b509c67 div.sk-parallel-item::after {content: \"\";width: 100%;border-bottom: 1px solid gray;flex-grow: 1;}#sk-35f0b76a-09dc-41be-8f18-6ccd0b509c67 div.sk-label:hover label.sk-toggleable__label {background-color: #d4ebff;}#sk-35f0b76a-09dc-41be-8f18-6ccd0b509c67 div.sk-serial::before {content: \"\";position: absolute;border-left: 1px solid gray;box-sizing: border-box;top: 2em;bottom: 0;left: 50%;}#sk-35f0b76a-09dc-41be-8f18-6ccd0b509c67 div.sk-serial {display: flex;flex-direction: column;align-items: center;background-color: white;}#sk-35f0b76a-09dc-41be-8f18-6ccd0b509c67 div.sk-item {z-index: 1;}#sk-35f0b76a-09dc-41be-8f18-6ccd0b509c67 div.sk-parallel {display: flex;align-items: stretch;justify-content: center;background-color: white;}#sk-35f0b76a-09dc-41be-8f18-6ccd0b509c67 div.sk-parallel-item {display: flex;flex-direction: column;position: relative;background-color: white;}#sk-35f0b76a-09dc-41be-8f18-6ccd0b509c67 div.sk-parallel-item:first-child::after {align-self: flex-end;width: 50%;}#sk-35f0b76a-09dc-41be-8f18-6ccd0b509c67 div.sk-parallel-item:last-child::after {align-self: flex-start;width: 50%;}#sk-35f0b76a-09dc-41be-8f18-6ccd0b509c67 div.sk-parallel-item:only-child::after {width: 0;}#sk-35f0b76a-09dc-41be-8f18-6ccd0b509c67 div.sk-dashed-wrapped {border: 1px dashed gray;margin: 0.2em;box-sizing: border-box;padding-bottom: 0.1em;background-color: white;position: relative;}#sk-35f0b76a-09dc-41be-8f18-6ccd0b509c67 div.sk-label label {font-family: monospace;font-weight: bold;background-color: white;display: inline-block;line-height: 1.2em;}#sk-35f0b76a-09dc-41be-8f18-6ccd0b509c67 div.sk-label-container {position: relative;z-index: 2;text-align: center;}#sk-35f0b76a-09dc-41be-8f18-6ccd0b509c67 div.sk-container {display: inline-block;position: relative;}</style><div id=\"sk-35f0b76a-09dc-41be-8f18-6ccd0b509c67\" class\"sk-top-container\"><div class=\"sk-container\"><div class=\"sk-item sk-dashed-wrapped\"><div class=\"sk-label-container\"><div class=\"sk-label sk-toggleable\"><input class=\"sk-toggleable__control sk-hidden--visually\" id=\"8ab112a1-cc83-4c28-94a4-34e8dca53ac4\" type=\"checkbox\" ><label class=\"sk-toggleable__label\" for=\"8ab112a1-cc83-4c28-94a4-34e8dca53ac4\">Pipeline</label><div class=\"sk-toggleable__content\"><pre>Pipeline(steps=[('preprocessor',\n",
       "                 ColumnTransformer(transformers=[('num',\n",
       "                                                  Pipeline(steps=[('imputer',\n",
       "                                                                   SimpleImputer(strategy='median')),\n",
       "                                                                  ('scaler',\n",
       "                                                                   StandardScaler()),\n",
       "                                                                  ('poly',\n",
       "                                                                   PolynomialFeatures())]),\n",
       "                                                  ['R&D Spend',\n",
       "                                                   'Administration',\n",
       "                                                   'Marketing Spend']),\n",
       "                                                 ('cat',\n",
       "                                                  Pipeline(steps=[('imputer',\n",
       "                                                                   SimpleImputer(fill_value='missing',\n",
       "                                                                                 strategy='constant')),\n",
       "                                                                  ('onehot',\n",
       "                                                                   OneHotEncoder(handle_unknown='ignore')),\n",
       "                                                                  ('poly',\n",
       "                                                                   PolynomialFeatures())]),\n",
       "                                                  ['State'])])),\n",
       "                ('classifier', LinearRegression())])</pre></div></div></div><div class=\"sk-serial\"><div class=\"sk-item sk-dashed-wrapped\"><div class=\"sk-label-container\"><div class=\"sk-label sk-toggleable\"><input class=\"sk-toggleable__control sk-hidden--visually\" id=\"6c318a6f-2da8-4374-a04a-dea494e3e1f2\" type=\"checkbox\" ><label class=\"sk-toggleable__label\" for=\"6c318a6f-2da8-4374-a04a-dea494e3e1f2\">preprocessor: ColumnTransformer</label><div class=\"sk-toggleable__content\"><pre>ColumnTransformer(transformers=[('num',\n",
       "                                 Pipeline(steps=[('imputer',\n",
       "                                                  SimpleImputer(strategy='median')),\n",
       "                                                 ('scaler', StandardScaler()),\n",
       "                                                 ('poly',\n",
       "                                                  PolynomialFeatures())]),\n",
       "                                 ['R&D Spend', 'Administration',\n",
       "                                  'Marketing Spend']),\n",
       "                                ('cat',\n",
       "                                 Pipeline(steps=[('imputer',\n",
       "                                                  SimpleImputer(fill_value='missing',\n",
       "                                                                strategy='constant')),\n",
       "                                                 ('onehot',\n",
       "                                                  OneHotEncoder(handle_unknown='ignore')),\n",
       "                                                 ('poly',\n",
       "                                                  PolynomialFeatures())]),\n",
       "                                 ['State'])])</pre></div></div></div><div class=\"sk-parallel\"><div class=\"sk-parallel-item\"><div class=\"sk-item\"><div class=\"sk-label-container\"><div class=\"sk-label sk-toggleable\"><input class=\"sk-toggleable__control sk-hidden--visually\" id=\"5b226b19-0c52-4648-8b74-a9e41d444cc0\" type=\"checkbox\" ><label class=\"sk-toggleable__label\" for=\"5b226b19-0c52-4648-8b74-a9e41d444cc0\">num</label><div class=\"sk-toggleable__content\"><pre>['R&D Spend', 'Administration', 'Marketing Spend']</pre></div></div></div><div class=\"sk-serial\"><div class=\"sk-item\"><div class=\"sk-serial\"><div class=\"sk-item\"><div class=\"sk-estimator sk-toggleable\"><input class=\"sk-toggleable__control sk-hidden--visually\" id=\"0646af7e-2243-4a3e-8f00-4ec51a490f4c\" type=\"checkbox\" ><label class=\"sk-toggleable__label\" for=\"0646af7e-2243-4a3e-8f00-4ec51a490f4c\">SimpleImputer</label><div class=\"sk-toggleable__content\"><pre>SimpleImputer(strategy='median')</pre></div></div></div><div class=\"sk-item\"><div class=\"sk-estimator sk-toggleable\"><input class=\"sk-toggleable__control sk-hidden--visually\" id=\"95515793-3717-49e5-a5f8-1abb767579d7\" type=\"checkbox\" ><label class=\"sk-toggleable__label\" for=\"95515793-3717-49e5-a5f8-1abb767579d7\">StandardScaler</label><div class=\"sk-toggleable__content\"><pre>StandardScaler()</pre></div></div></div><div class=\"sk-item\"><div class=\"sk-estimator sk-toggleable\"><input class=\"sk-toggleable__control sk-hidden--visually\" id=\"75e33f98-5aa2-45fd-9d75-98a91c8bd83f\" type=\"checkbox\" ><label class=\"sk-toggleable__label\" for=\"75e33f98-5aa2-45fd-9d75-98a91c8bd83f\">PolynomialFeatures</label><div class=\"sk-toggleable__content\"><pre>PolynomialFeatures()</pre></div></div></div></div></div></div></div></div><div class=\"sk-parallel-item\"><div class=\"sk-item\"><div class=\"sk-label-container\"><div class=\"sk-label sk-toggleable\"><input class=\"sk-toggleable__control sk-hidden--visually\" id=\"099c7ef0-8d16-4c30-9989-4958dcae0c9a\" type=\"checkbox\" ><label class=\"sk-toggleable__label\" for=\"099c7ef0-8d16-4c30-9989-4958dcae0c9a\">cat</label><div class=\"sk-toggleable__content\"><pre>['State']</pre></div></div></div><div class=\"sk-serial\"><div class=\"sk-item\"><div class=\"sk-serial\"><div class=\"sk-item\"><div class=\"sk-estimator sk-toggleable\"><input class=\"sk-toggleable__control sk-hidden--visually\" id=\"0d219c91-8fc8-4d02-8a6f-6f78830f3a4d\" type=\"checkbox\" ><label class=\"sk-toggleable__label\" for=\"0d219c91-8fc8-4d02-8a6f-6f78830f3a4d\">SimpleImputer</label><div class=\"sk-toggleable__content\"><pre>SimpleImputer(fill_value='missing', strategy='constant')</pre></div></div></div><div class=\"sk-item\"><div class=\"sk-estimator sk-toggleable\"><input class=\"sk-toggleable__control sk-hidden--visually\" id=\"649bf142-7622-4e4c-bf57-3e3df8cbff3d\" type=\"checkbox\" ><label class=\"sk-toggleable__label\" for=\"649bf142-7622-4e4c-bf57-3e3df8cbff3d\">OneHotEncoder</label><div class=\"sk-toggleable__content\"><pre>OneHotEncoder(handle_unknown='ignore')</pre></div></div></div><div class=\"sk-item\"><div class=\"sk-estimator sk-toggleable\"><input class=\"sk-toggleable__control sk-hidden--visually\" id=\"21919426-ec5c-45f6-b824-95c982e7f121\" type=\"checkbox\" ><label class=\"sk-toggleable__label\" for=\"21919426-ec5c-45f6-b824-95c982e7f121\">PolynomialFeatures</label><div class=\"sk-toggleable__content\"><pre>PolynomialFeatures()</pre></div></div></div></div></div></div></div></div></div></div><div class=\"sk-item\"><div class=\"sk-estimator sk-toggleable\"><input class=\"sk-toggleable__control sk-hidden--visually\" id=\"9e133c47-4377-4c47-b6f2-db8ac9c040ab\" type=\"checkbox\" ><label class=\"sk-toggleable__label\" for=\"9e133c47-4377-4c47-b6f2-db8ac9c040ab\">LinearRegression</label><div class=\"sk-toggleable__content\"><pre>LinearRegression()</pre></div></div></div></div></div></div></div>"
      ],
      "text/plain": [
       "Pipeline(steps=[('preprocessor',\n",
       "                 ColumnTransformer(transformers=[('num',\n",
       "                                                  Pipeline(steps=[('imputer',\n",
       "                                                                   SimpleImputer(strategy='median')),\n",
       "                                                                  ('scaler',\n",
       "                                                                   StandardScaler()),\n",
       "                                                                  ('poly',\n",
       "                                                                   PolynomialFeatures())]),\n",
       "                                                  ['R&D Spend',\n",
       "                                                   'Administration',\n",
       "                                                   'Marketing Spend']),\n",
       "                                                 ('cat',\n",
       "                                                  Pipeline(steps=[('imputer',\n",
       "                                                                   SimpleImputer(fill_value='missing',\n",
       "                                                                                 strategy='constant')),\n",
       "                                                                  ('onehot',\n",
       "                                                                   OneHotEncoder(handle_unknown='ignore')),\n",
       "                                                                  ('poly',\n",
       "                                                                   PolynomialFeatures())]),\n",
       "                                                  ['State'])])),\n",
       "                ('classifier', LinearRegression())])"
      ]
     },
     "execution_count": 50,
     "metadata": {},
     "output_type": "execute_result"
    }
   ],
   "source": [
    "#Visualization of the pipeline\n",
    "from sklearn import set_config\n",
    "set_config(display='diagram')\n",
    "clf"
   ]
  },
  {
   "cell_type": "code",
   "execution_count": 51,
   "metadata": {},
   "outputs": [
    {
     "data": {
      "text/plain": [
       "dict_keys(['memory', 'steps', 'verbose', 'preprocessor', 'classifier', 'preprocessor__n_jobs', 'preprocessor__remainder', 'preprocessor__sparse_threshold', 'preprocessor__transformer_weights', 'preprocessor__transformers', 'preprocessor__verbose', 'preprocessor__num', 'preprocessor__cat', 'preprocessor__num__memory', 'preprocessor__num__steps', 'preprocessor__num__verbose', 'preprocessor__num__imputer', 'preprocessor__num__scaler', 'preprocessor__num__poly', 'preprocessor__num__imputer__add_indicator', 'preprocessor__num__imputer__copy', 'preprocessor__num__imputer__fill_value', 'preprocessor__num__imputer__missing_values', 'preprocessor__num__imputer__strategy', 'preprocessor__num__imputer__verbose', 'preprocessor__num__scaler__copy', 'preprocessor__num__scaler__with_mean', 'preprocessor__num__scaler__with_std', 'preprocessor__num__poly__degree', 'preprocessor__num__poly__include_bias', 'preprocessor__num__poly__interaction_only', 'preprocessor__num__poly__order', 'preprocessor__cat__memory', 'preprocessor__cat__steps', 'preprocessor__cat__verbose', 'preprocessor__cat__imputer', 'preprocessor__cat__onehot', 'preprocessor__cat__poly', 'preprocessor__cat__imputer__add_indicator', 'preprocessor__cat__imputer__copy', 'preprocessor__cat__imputer__fill_value', 'preprocessor__cat__imputer__missing_values', 'preprocessor__cat__imputer__strategy', 'preprocessor__cat__imputer__verbose', 'preprocessor__cat__onehot__categories', 'preprocessor__cat__onehot__drop', 'preprocessor__cat__onehot__dtype', 'preprocessor__cat__onehot__handle_unknown', 'preprocessor__cat__onehot__sparse', 'preprocessor__cat__poly__degree', 'preprocessor__cat__poly__include_bias', 'preprocessor__cat__poly__interaction_only', 'preprocessor__cat__poly__order', 'classifier__copy_X', 'classifier__fit_intercept', 'classifier__n_jobs', 'classifier__normalize', 'classifier__positive'])"
      ]
     },
     "execution_count": 51,
     "metadata": {},
     "output_type": "execute_result"
    }
   ],
   "source": [
    "#see list of param:\n",
    "clf.get_params().keys()"
   ]
  },
  {
   "cell_type": "code",
   "execution_count": 52,
   "metadata": {},
   "outputs": [
    {
     "name": "stdout",
     "output_type": "stream",
     "text": [
      "best TEST score from grid search: 0.959\n"
     ]
    }
   ],
   "source": [
    "#more fun: tune up a model if you want\n",
    "\n",
    "param_grid = {\n",
    "    'preprocessor__num__imputer__strategy': ['mean', 'median'],\n",
    "#     'classifier__C': [0.1, 1.0, 10, 100],\n",
    "    'classifier__fit_intercept': [True, False],\n",
    "    'preprocessor__num__poly__degree': [1,2,3,4],\n",
    "}\n",
    "\n",
    "grid_search = GridSearchCV(clf, param_grid, cv=2)\n",
    "grid_search.fit(X_train, y_train)\n",
    "\n",
    "print((\"best TEST score from grid search: %.3f\"\n",
    "       % grid_search.score(X_test, y_test)))"
   ]
  },
  {
   "cell_type": "markdown",
   "metadata": {},
   "source": [
    "## Saving the model"
   ]
  },
  {
   "cell_type": "code",
   "execution_count": 54,
   "metadata": {},
   "outputs": [],
   "source": [
    "#First, save test data:\n",
    "X_test.to_csv('X_test.csv',index=False)\n",
    "y_test.to_csv('y_test.csv',index=False)"
   ]
  },
  {
   "cell_type": "code",
   "execution_count": 55,
   "metadata": {},
   "outputs": [
    {
     "data": {
      "text/plain": [
       "['ins_linreg.joblib']"
      ]
     },
     "execution_count": 55,
     "metadata": {},
     "output_type": "execute_result"
    }
   ],
   "source": [
    "#then save model:\n",
    "from joblib import dump, load\n",
    "dump(clf, 'ins_linreg.joblib') "
   ]
  },
  {
   "cell_type": "code",
   "execution_count": 56,
   "metadata": {},
   "outputs": [
    {
     "name": "stdout",
     "output_type": "stream",
     "text": [
      "0.9847022409819033\n"
     ]
    }
   ],
   "source": [
    "#Test: load and predict\n",
    "clf2 = load('ins_linreg.joblib') \n",
    "print(clf2.score(X_test,y_test))"
   ]
  },
  {
   "cell_type": "code",
   "execution_count": null,
   "metadata": {},
   "outputs": [],
   "source": []
  },
  {
   "cell_type": "code",
   "execution_count": null,
   "metadata": {},
   "outputs": [],
   "source": []
  }
 ],
 "metadata": {
  "kernelspec": {
   "display_name": "Python 3",
   "language": "python",
   "name": "python3"
  },
  "language_info": {
   "codemirror_mode": {
    "name": "ipython",
    "version": 3
   },
   "file_extension": ".py",
   "mimetype": "text/x-python",
   "name": "python",
   "nbconvert_exporter": "python",
   "pygments_lexer": "ipython3",
   "version": "3.6.10"
  }
 },
 "nbformat": 4,
 "nbformat_minor": 2
}
