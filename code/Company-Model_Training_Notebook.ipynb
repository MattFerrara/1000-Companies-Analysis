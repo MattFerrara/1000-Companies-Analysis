{
 "cells": [
  {
   "cell_type": "code",
   "execution_count": 128,
   "metadata": {},
   "outputs": [
    {
     "data": {
      "text/html": [
       "<div>\n",
       "<style scoped>\n",
       "    .dataframe tbody tr th:only-of-type {\n",
       "        vertical-align: middle;\n",
       "    }\n",
       "\n",
       "    .dataframe tbody tr th {\n",
       "        vertical-align: top;\n",
       "    }\n",
       "\n",
       "    .dataframe thead th {\n",
       "        text-align: right;\n",
       "    }\n",
       "</style>\n",
       "<table border=\"1\" class=\"dataframe\">\n",
       "  <thead>\n",
       "    <tr style=\"text-align: right;\">\n",
       "      <th></th>\n",
       "      <th>R&amp;D Spend</th>\n",
       "      <th>Administration</th>\n",
       "      <th>Marketing Spend</th>\n",
       "      <th>State</th>\n",
       "      <th>Profit</th>\n",
       "    </tr>\n",
       "  </thead>\n",
       "  <tbody>\n",
       "    <tr>\n",
       "      <th>0</th>\n",
       "      <td>165349.20</td>\n",
       "      <td>136897.80</td>\n",
       "      <td>471784.10</td>\n",
       "      <td>New York</td>\n",
       "      <td>192261.83</td>\n",
       "    </tr>\n",
       "    <tr>\n",
       "      <th>1</th>\n",
       "      <td>162597.70</td>\n",
       "      <td>151377.59</td>\n",
       "      <td>443898.53</td>\n",
       "      <td>California</td>\n",
       "      <td>191792.06</td>\n",
       "    </tr>\n",
       "    <tr>\n",
       "      <th>2</th>\n",
       "      <td>153441.51</td>\n",
       "      <td>101145.55</td>\n",
       "      <td>407934.54</td>\n",
       "      <td>Florida</td>\n",
       "      <td>191050.39</td>\n",
       "    </tr>\n",
       "    <tr>\n",
       "      <th>3</th>\n",
       "      <td>144372.41</td>\n",
       "      <td>118671.85</td>\n",
       "      <td>383199.62</td>\n",
       "      <td>New York</td>\n",
       "      <td>182901.99</td>\n",
       "    </tr>\n",
       "    <tr>\n",
       "      <th>4</th>\n",
       "      <td>142107.34</td>\n",
       "      <td>91391.77</td>\n",
       "      <td>366168.42</td>\n",
       "      <td>Florida</td>\n",
       "      <td>166187.94</td>\n",
       "    </tr>\n",
       "  </tbody>\n",
       "</table>\n",
       "</div>"
      ],
      "text/plain": [
       "   R&D Spend  Administration  Marketing Spend       State     Profit\n",
       "0  165349.20       136897.80        471784.10    New York  192261.83\n",
       "1  162597.70       151377.59        443898.53  California  191792.06\n",
       "2  153441.51       101145.55        407934.54     Florida  191050.39\n",
       "3  144372.41       118671.85        383199.62    New York  182901.99\n",
       "4  142107.34        91391.77        366168.42     Florida  166187.94"
      ]
     },
     "execution_count": 128,
     "metadata": {},
     "output_type": "execute_result"
    }
   ],
   "source": [
    "# Importing the libraries\n",
    "import numpy as np\n",
    "import matplotlib.pyplot as plt\n",
    "import pandas as pd\n",
    "import seaborn as sns\n",
    "\n",
    "# Importing the dataset and Extracting the Independent and Dependent variables\n",
    "df = pd.read_csv('1000_Companies.csv')\n",
    "X = companies.iloc[:, :-1].values #grabs all rows,except last column\n",
    "y = companies.iloc[:, 4].values #grabs last col as label or what we're testing \n",
    "df.head()"
   ]
  },
  {
   "cell_type": "code",
   "execution_count": 129,
   "metadata": {},
   "outputs": [
    {
     "data": {
      "text/html": [
       "<div>\n",
       "<style scoped>\n",
       "    .dataframe tbody tr th:only-of-type {\n",
       "        vertical-align: middle;\n",
       "    }\n",
       "\n",
       "    .dataframe tbody tr th {\n",
       "        vertical-align: top;\n",
       "    }\n",
       "\n",
       "    .dataframe thead th {\n",
       "        text-align: right;\n",
       "    }\n",
       "</style>\n",
       "<table border=\"1\" class=\"dataframe\">\n",
       "  <thead>\n",
       "    <tr style=\"text-align: right;\">\n",
       "      <th></th>\n",
       "      <th>R&amp;D Spend</th>\n",
       "      <th>Administration</th>\n",
       "      <th>Marketing Spend</th>\n",
       "      <th>Profit</th>\n",
       "    </tr>\n",
       "  </thead>\n",
       "  <tbody>\n",
       "    <tr>\n",
       "      <th>count</th>\n",
       "      <td>1000.000000</td>\n",
       "      <td>1000.000000</td>\n",
       "      <td>1000.000000</td>\n",
       "      <td>1000.000000</td>\n",
       "    </tr>\n",
       "    <tr>\n",
       "      <th>mean</th>\n",
       "      <td>81668.927200</td>\n",
       "      <td>122963.897612</td>\n",
       "      <td>226205.058419</td>\n",
       "      <td>119546.164656</td>\n",
       "    </tr>\n",
       "    <tr>\n",
       "      <th>std</th>\n",
       "      <td>46537.567891</td>\n",
       "      <td>12613.927535</td>\n",
       "      <td>91578.393542</td>\n",
       "      <td>42888.633848</td>\n",
       "    </tr>\n",
       "    <tr>\n",
       "      <th>min</th>\n",
       "      <td>0.000000</td>\n",
       "      <td>51283.140000</td>\n",
       "      <td>0.000000</td>\n",
       "      <td>14681.400000</td>\n",
       "    </tr>\n",
       "    <tr>\n",
       "      <th>25%</th>\n",
       "      <td>43084.500000</td>\n",
       "      <td>116640.684850</td>\n",
       "      <td>150969.584600</td>\n",
       "      <td>85943.198543</td>\n",
       "    </tr>\n",
       "    <tr>\n",
       "      <th>50%</th>\n",
       "      <td>79936.000000</td>\n",
       "      <td>122421.612150</td>\n",
       "      <td>224517.887350</td>\n",
       "      <td>117641.466300</td>\n",
       "    </tr>\n",
       "    <tr>\n",
       "      <th>75%</th>\n",
       "      <td>124565.500000</td>\n",
       "      <td>129139.118000</td>\n",
       "      <td>308189.808525</td>\n",
       "      <td>155577.107425</td>\n",
       "    </tr>\n",
       "    <tr>\n",
       "      <th>max</th>\n",
       "      <td>165349.200000</td>\n",
       "      <td>321652.140000</td>\n",
       "      <td>471784.100000</td>\n",
       "      <td>476485.430000</td>\n",
       "    </tr>\n",
       "  </tbody>\n",
       "</table>\n",
       "</div>"
      ],
      "text/plain": [
       "           R&D Spend  Administration  Marketing Spend         Profit\n",
       "count    1000.000000     1000.000000      1000.000000    1000.000000\n",
       "mean    81668.927200   122963.897612    226205.058419  119546.164656\n",
       "std     46537.567891    12613.927535     91578.393542   42888.633848\n",
       "min         0.000000    51283.140000         0.000000   14681.400000\n",
       "25%     43084.500000   116640.684850    150969.584600   85943.198543\n",
       "50%     79936.000000   122421.612150    224517.887350  117641.466300\n",
       "75%    124565.500000   129139.118000    308189.808525  155577.107425\n",
       "max    165349.200000   321652.140000    471784.100000  476485.430000"
      ]
     },
     "execution_count": 129,
     "metadata": {},
     "output_type": "execute_result"
    }
   ],
   "source": [
    "df.describe()"
   ]
  },
  {
   "cell_type": "code",
   "execution_count": 141,
   "metadata": {},
   "outputs": [
    {
     "data": {
      "text/plain": [
       "<matplotlib.axes._subplots.AxesSubplot at 0x7f25df1a4128>"
      ]
     },
     "execution_count": 141,
     "metadata": {},
     "output_type": "execute_result"
    },
    {
     "data": {
      "image/png": "[encoded data removed]",
      "text/plain": [
       "<Figure size 432x288 with 1 Axes>"
      ]
     },
     "metadata": {
      "needs_background": "light"
     },
     "output_type": "display_data"
    }
   ],
   "source": [
    "# Data Visualisation\n",
    "sns.scatterplot(data = companies, x = \"Marketing Spend\",y = \"Profit\")"
   ]
  },
  {
   "cell_type": "code",
   "execution_count": 131,
   "metadata": {},
   "outputs": [],
   "source": [
    "# Encoding categorical data\n",
    "from sklearn.preprocessing import LabelEncoder, OneHotEncoder\n",
    "labelencoder = LabelEncoder()\n",
    "X[:, 3] = labelencoder.fit_transform(X[:, 3])\n",
    "column_transformer = ColumnTransformer(transformers=[('encoder', OneHotEncoder(), [3])],remainder='passthrough')\n",
    "X = column_transformer.fit_transform(X)"
   ]
  },
  {
   "cell_type": "code",
   "execution_count": 145,
   "metadata": {},
   "outputs": [],
   "source": [
    "# Splitting the dataset into the Training set and Test set\n",
    "from sklearn.model_selection import train_test_split\n",
    "X_train, X_test, y_train, y_test = train_test_split(X, y, test_size = 0.2)"
   ]
  },
  {
   "cell_type": "code",
   "execution_count": 146,
   "metadata": {},
   "outputs": [
    {
     "data": {
      "text/plain": [
       "LinearRegression(copy_X=True, fit_intercept=True, n_jobs=None, normalize=False)"
      ]
     },
     "execution_count": 146,
     "metadata": {},
     "output_type": "execute_result"
    }
   ],
   "source": [
    "# Fitting Multiple Linear Regression to the Training set\n",
    "from sklearn.linear_model import LinearRegression\n",
    "#Regressor gives the slopes of the y value\n",
    "regressor = LinearRegression()\n",
    "regressor.fit(X_train, y_train)"
   ]
  },
  {
   "cell_type": "code",
   "execution_count": 147,
   "metadata": {},
   "outputs": [
    {
     "data": {
      "text/plain": [
       "array([101532.04083628, 111644.01525865,  54520.3965458 , 128479.50180483,\n",
       "        94643.86184737,  58238.85717208, 136925.25429059, 126748.18830193,\n",
       "       155189.84076391, 146506.52993906, 143332.75756457, 162803.99881937,\n",
       "        94413.65229943, 137420.59791385, 110196.38303729, 154772.53205275,\n",
       "       158844.96717117, 164562.04074555, 137025.69171424,  82809.21094615,\n",
       "       162724.90277554,  97281.59789365,  56790.34794009, 102103.92683844,\n",
       "        86589.11554483, 153130.01105718,  73595.88438066, 120110.91180962,\n",
       "       117085.40935164,  53659.91303526,  69972.88673503, 150049.34220224,\n",
       "       141065.13584607, 139887.60183385,  88410.11357908,  51287.73708473,\n",
       "       182594.25701648,  96781.7561973 , 131591.00179032, 117774.55552127,\n",
       "       161372.09863625, 163467.03667737, 167465.95701173, 184266.06319856,\n",
       "        85070.76741595, 143556.9315253 , 122479.62418598,  73995.72170414,\n",
       "       153350.11623161, 111184.45840022, 181525.96647205,  72448.28569087,\n",
       "       177454.62067977,  58194.88458238, 172481.40546962, 160026.19207145,\n",
       "       169327.46383133,  60734.10187125, 101369.94574653, 170709.56816925,\n",
       "       155001.01713828, 105650.82301264,  75665.81844842,  98265.99725555,\n",
       "        97857.3106814 , 146100.6720405 ,  82059.07513156, 103260.14754016,\n",
       "        66363.44236276, 167981.78448031,  85364.64154584, 178843.65261644,\n",
       "       109718.94700625,  57072.28987094, 113759.02614926, 111810.43626013,\n",
       "        81075.31088096,  85798.47093242, 180966.63563325,  69934.94961245,\n",
       "       127949.2439384 ,  73455.34446455,  89081.7735741 , 141613.49998628,\n",
       "        94727.49600458, 181449.24490145, 173615.2237724 , 167161.82476973,\n",
       "        69225.97260651, 173579.2382134 , 116159.64018608, 181346.86933419,\n",
       "       103943.90564741, 165933.81349619, 106675.12594775, 149832.06582849,\n",
       "        79970.8225634 , 165424.23369139,  91256.48908766, 174658.7225576 ,\n",
       "        71959.18664558, 114000.42949697, 116758.63260987, 103303.01591169,\n",
       "       173691.08313051,  57035.45708288,  69099.22807707,  80011.57347453,\n",
       "       166585.64265489,  90592.5890047 , 130797.11668313, 167001.22691613,\n",
       "       170357.16721738,  73620.02624166,  57113.91800917,  67298.07577865,\n",
       "       130156.48133668, 178439.83741054, -25442.66336861,  88571.57365765,\n",
       "       108224.51362472, 129712.45910176,  70684.84331374, 104600.63886708,\n",
       "        97902.38761686, 156802.15463729,  87076.27793855,  88319.56682277,\n",
       "        69842.69330574, 143337.06857678, 141747.14220282, 164142.99279755,\n",
       "       164892.49348835,  82392.74968551,  78457.87478535,  70935.11081165,\n",
       "        76672.00009761, 120896.61039864,  64845.95645885, 162049.56687962,\n",
       "       136880.22067427, 164015.38604314, 160224.27273268, 158527.43267807,\n",
       "        88732.80652243, 103416.98587472, 182161.65579511, 165223.35415363,\n",
       "       109833.37861074, 126325.07145502, 150950.59163354, 135533.20989629,\n",
       "       161539.36696316, 142167.27960205, 179683.42816369, 125397.95583788,\n",
       "        79425.90709783,  86891.13043903, 158889.55998014, 107050.4135127 ,\n",
       "        95376.75348804,  62150.0743215 , 170369.85826578,  68318.92993899,\n",
       "       162475.72472885, 143783.91938717, 118410.62295528,  51321.37808964,\n",
       "        83662.87561327, 178987.86842098, 115511.87993876, 143697.47144141,\n",
       "        88051.43505178,  72529.96830947, 170359.51179144,  79587.36718888,\n",
       "       153455.94058612,  58805.32782252, 159101.6631292 , 122693.63963905,\n",
       "        56135.06988404, 141964.41870165,  78655.09322162, 131288.56030248,\n",
       "        85885.56878889,  70165.79415909, 143232.10633463, 117288.04313838,\n",
       "       162484.98187705, 117963.15193312, 141757.73080294, 129221.22780914,\n",
       "       108471.09010947, 174345.4989641 ,  99281.92027955,  77118.00368269,\n",
       "       138777.69816582,  58852.99131277,  56667.06709242, 124890.35748335])"
      ]
     },
     "execution_count": 147,
     "metadata": {},
     "output_type": "execute_result"
    }
   ],
   "source": [
    "# Predicting the Test set results\n",
    "y_pred = regressor.predict(X_test)\n",
    "y_pred"
   ]
  },
  {
   "cell_type": "code",
   "execution_count": 148,
   "metadata": {},
   "outputs": [
    {
     "name": "stdout",
     "output_type": "stream",
     "text": [
      "[ 1.30395133e+02 -3.06502201e+02  1.76107067e+02  4.55050322e-01\n",
      "  1.12600922e+00  1.24831862e-01]\n"
     ]
    }
   ],
   "source": [
    "print(regressor.coef_)"
   ]
  },
  {
   "cell_type": "code",
   "execution_count": 149,
   "metadata": {},
   "outputs": [
    {
     "data": {
      "text/plain": [
       "0.9646938783486946"
      ]
     },
     "execution_count": 149,
     "metadata": {},
     "output_type": "execute_result"
    }
   ],
   "source": [
    "# Calculating the R squared value\n",
    "from sklearn.metrics import r2_score\n",
    "#r2_score is a function from metrics\n",
    "r2_score(y_test, y_pred)"
   ]
  },
  {
   "cell_type": "code",
   "execution_count": null,
   "metadata": {},
   "outputs": [],
   "source": []
  }
 ],
 "metadata": {
  "kernelspec": {
   "display_name": "Python 3",
   "language": "python",
   "name": "python3"
  },
  "language_info": {
   "codemirror_mode": {
    "name": "ipython",
    "version": 3
   },
   "file_extension": ".py",
   "mimetype": "text/x-python",
   "name": "python",
   "nbconvert_exporter": "python",
   "pygments_lexer": "ipython3",
   "version": "3.6.10"
  }
 },
 "nbformat": 4,
 "nbformat_minor": 2
}
